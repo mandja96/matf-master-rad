{
 "cells": [
  {
   "cell_type": "code",
   "execution_count": 37,
   "id": "fb873140",
   "metadata": {},
   "outputs": [],
   "source": [
    "import datetime\n",
    "\n",
    "def week_year_to_date(week_year):\n",
    "    # the '1' is for specifying the first day of the week\n",
    "    return datetime.datetime.strptime(str(week_year) + '1', '%G%V%u')\n",
    "\n",
    "\n",
    "map_year_to_total_of_weeks = {\"2018\": 52, \"2019\": 52, \"2020\": 53, \"2021\": 52, \"2022\": 52, \"2023\": 52}\n",
    "def date_to_year_week(date):\n",
    "    \n",
    "    if type(date) == str:\n",
    "        date = datetime.datetime.strptime(date, '%Y-%m-%d').date()\n",
    "\n",
    "    format_iso = date.isocalendar() # [0]-> year, [1]-> week\n",
    "\n",
    "    # 2019-12-31 -> format_iso[0] = 2020, format_iso[1] = 1\n",
    "    if (format_iso[0] > date.year):\n",
    "        last_week_in_previous_year = map_year_to_total_of_weeks[str(date.year)]\n",
    "        return str(date.year) + str(last_week_in_previous_year)\n",
    "\n",
    "    # 2021-01-01 -> format_iso[0] = 2020, format_iso[1] = 53\n",
    "    elif (format_iso[0] < date.year):\n",
    "        return str(date.year) + \"01\"\n",
    "\n",
    "    else:\n",
    "        return str(format_iso[0]) + (str(format_iso[1]) if format_iso[1] > 9 else \"0\" + str(format_iso[1]))"
   ]
  },
  {
   "cell_type": "code",
   "execution_count": 38,
   "id": "04cd1c17",
   "metadata": {},
   "outputs": [],
   "source": [
    "def smape(actual, predicted) -> float:  \n",
    "    temporary_smape_nominator = np.abs(np.array(actual) - np.array(predicted))\n",
    "    temporary_smape_denominator = [np.max(elem) for elem in list(zip(predicted, actual))]\n",
    "\n",
    "    return float(np.sum(temporary_smape_nominator) / np.sum(temporary_smape_denominator))\n",
    "\n",
    "def andja_smape(actual, predicted):\n",
    "    temporary_smape_nominator = np.abs(np.array(actual) - np.array(predicted))\n",
    "    temporary_smape_denominator = np.array(actual) + np.array(predicted)\n",
    "\n",
    "    return 1/len(actual) * float(np.sum(temporary_smape_nominator / temporary_smape_denominator))\n",
    "\n",
    "def regression_insights(actual, predicted) -> tuple: \n",
    "    mse = mean_squared_error(actual, predicted)\n",
    "    rmse = np.sqrt(mse)\n",
    "    mae = mean_absolute_error(actual, predicted)\n",
    "    r2 = r2_score(actual, predicted)\n",
    "\n",
    "    return mse, rmse, mae, r2\n",
    "\n",
    "def bias(actual, predicted) -> float:\n",
    "    return float(np.sum(np.abs(1 - np.array(predicted) / np.array(actual))))"
   ]
  },
  {
   "cell_type": "code",
   "execution_count": 39,
   "id": "46d942fd",
   "metadata": {},
   "outputs": [
    {
     "name": "stdout",
     "output_type": "stream",
     "text": [
      "0.5714285714285714\n",
      "0.4\n"
     ]
    }
   ],
   "source": [
    "import pandas as pd\n",
    "import numpy as np\n",
    "\n",
    "proba = pd.DataFrame({\n",
    "    \"target\": [7, 6, 8, 1, 5],\n",
    "    \"prediction\": [3, 4, 2, 9, 5]\n",
    "})\n",
    "print(smape(proba['target'], proba['prediction']))# provera: 0.5714285714285714\n",
    "print(andja_smape(proba['target'], proba['prediction']))"
   ]
  },
  {
   "cell_type": "code",
   "execution_count": 40,
   "id": "af3d15b2",
   "metadata": {},
   "outputs": [],
   "source": []
  }
 ],
 "metadata": {
  "kernelspec": {
   "display_name": "Python 3 (ipykernel)",
   "language": "python",
   "name": "python3"
  },
  "language_info": {
   "codemirror_mode": {
    "name": "ipython",
    "version": 3
   },
   "file_extension": ".py",
   "mimetype": "text/x-python",
   "name": "python",
   "nbconvert_exporter": "python",
   "pygments_lexer": "ipython3",
   "version": "3.9.4"
  }
 },
 "nbformat": 4,
 "nbformat_minor": 5
}
